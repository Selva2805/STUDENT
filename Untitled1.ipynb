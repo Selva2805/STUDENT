{
 "cells": [
  {
   "cell_type": "code",
   "execution_count": null,
   "id": "f80c3332",
   "metadata": {},
   "outputs": [],
   "source": [
    "import cv2 ### pip install openCV-python Shift + enter\n",
    " ## pip  install opencv-contrib-python  fullpackage"
   ]
  },
  {
   "cell_type": "code",
   "execution_count": null,
   "id": "d4c2eca8",
   "metadata": {},
   "outputs": [],
   "source": [
    "from deepface import DeepFace ##pip install deepface"
   ]
  },
  {
   "cell_type": "code",
   "execution_count": null,
   "id": "c2220734",
   "metadata": {},
   "outputs": [],
   "source": [
    "pip install deepface"
   ]
  },
  {
   "cell_type": "code",
   "execution_count": null,
   "id": "37637cfb",
   "metadata": {},
   "outputs": [],
   "source": [
    "img = cv2.imread('PrivateTest_251881.jpg')"
   ]
  },
  {
   "cell_type": "code",
   "execution_count": null,
   "id": "54660799",
   "metadata": {},
   "outputs": [],
   "source": [
    "import matplotlib.pyplot as plt"
   ]
  },
  {
   "cell_type": "code",
   "execution_count": null,
   "id": "39b80978",
   "metadata": {},
   "outputs": [],
   "source": [
    "plt.imshow(img)"
   ]
  },
  {
   "cell_type": "code",
   "execution_count": null,
   "id": "dfa662f4",
   "metadata": {},
   "outputs": [],
   "source": [
    "if img is not None:\n",
    "    # Convert the image to RGB format (Matplotlib expects images in this format)\n",
    "    img_rgb = cv2.cvtColor(img, cv2.COLOR_BGR2RGB)\n",
    "\n",
    "    # Display the image using Matplotlib\n",
    "    plt.imshow(img_rgb)\n",
    "    plt.axis('on')  # Turn off axis labels and ticks\n",
    "    plt.show()"
   ]
  },
  {
   "cell_type": "code",
   "execution_count": null,
   "id": "cbb5b53e",
   "metadata": {},
   "outputs": [],
   "source": [
    "predictions = DeepFace.analyze(img)"
   ]
  },
  {
   "cell_type": "code",
   "execution_count": null,
   "id": "afb228f5",
   "metadata": {},
   "outputs": [],
   "source": [
    "predictions"
   ]
  },
  {
   "cell_type": "code",
   "execution_count": null,
   "id": "55bd0875",
   "metadata": {},
   "outputs": [],
   "source": [
    "type(predictions)"
   ]
  },
  {
   "cell_type": "code",
   "execution_count": null,
   "id": "88a4d81c",
   "metadata": {},
   "outputs": [],
   "source": [
    "predictions('PrivateTest_251881')"
   ]
  },
  {
   "cell_type": "code",
   "execution_count": null,
   "id": "a2a9e1f8",
   "metadata": {},
   "outputs": [],
   "source": []
  },
  {
   "cell_type": "code",
   "execution_count": null,
   "id": "b9ce93a6",
   "metadata": {},
   "outputs": [],
   "source": []
  }
 ],
 "metadata": {
  "kernelspec": {
   "display_name": "Python 3 (ipykernel)",
   "language": "python",
   "name": "python3"
  },
  "language_info": {
   "codemirror_mode": {
    "name": "ipython",
    "version": 3
   },
   "file_extension": ".py",
   "mimetype": "text/x-python",
   "name": "python",
   "nbconvert_exporter": "python",
   "pygments_lexer": "ipython3",
   "version": "3.11.5"
  }
 },
 "nbformat": 4,
 "nbformat_minor": 5
}
